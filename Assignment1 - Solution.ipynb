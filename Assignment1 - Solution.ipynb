{
 "cells": [
  {
   "cell_type": "code",
   "execution_count": 50,
   "id": "80f96b17",
   "metadata": {},
   "outputs": [],
   "source": [
    "def my_func(x1, x2, x3):\n",
    "    if( type(x1)!=float or type(x2)!=float or type(x3)!=float):\n",
    "        print(\"Error: parameters should be float\")\n",
    "        return\n",
    "    if(x1+x2+x3==0):\n",
    "        print(\"Not a number – denominator equals zero\")\n",
    "        return      \n",
    "    return (((x1+x2+x3)*(x2+x3)*x3)/(x1+x2+x3))\n"
   ]
  },
  {
   "cell_type": "code",
   "execution_count": 52,
   "id": "7c2b29e9",
   "metadata": {},
   "outputs": [
    {
     "name": "stdout",
     "output_type": "stream",
     "text": [
      "Not a number – denominator equals zero\n"
     ]
    }
   ],
   "source": [
    "x1=-1\n",
    "x2=-2\n",
    "x3=3\n",
    "#my_func(x1,x2,x3)\n",
    "my_func(float(x1),float(x2),float(x3))"
   ]
  },
  {
   "cell_type": "code",
   "execution_count": 13,
   "id": "d23a6466",
   "metadata": {},
   "outputs": [],
   "source": [
    "def convert(hours, minutes):\n",
    "    if(hours<0 or minutes<0):\n",
    "        print(\"Input error!\")\n",
    "        return\n",
    "    return(hours*60*60+minutes*60)"
   ]
  },
  {
   "cell_type": "code",
   "execution_count": 12,
   "id": "9d032094",
   "metadata": {},
   "outputs": [
    {
     "data": {
      "text/plain": [
       "3600"
      ]
     },
     "execution_count": 12,
     "metadata": {},
     "output_type": "execute_result"
    }
   ],
   "source": [
    "convert(1,0)"
   ]
  }
 ],
 "metadata": {
  "kernelspec": {
   "display_name": "Python 3 (ipykernel)",
   "language": "python",
   "name": "python3"
  },
  "language_info": {
   "codemirror_mode": {
    "name": "ipython",
    "version": 3
   },
   "file_extension": ".py",
   "mimetype": "text/x-python",
   "name": "python",
   "nbconvert_exporter": "python",
   "pygments_lexer": "ipython3",
   "version": "3.9.7"
  }
 },
 "nbformat": 4,
 "nbformat_minor": 5
}
