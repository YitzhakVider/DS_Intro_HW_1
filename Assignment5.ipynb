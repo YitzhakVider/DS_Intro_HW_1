{
 "cells": [
  {
   "cell_type": "code",
   "execution_count": 4,
   "id": "f7e8985d",
   "metadata": {},
   "outputs": [],
   "source": [
    "def get_country(address):\n",
    "    import requests\n",
    "    api_key=\"Fill_Here_Your_Api\"\n",
    "    url=\"https://maps.googleapis.com/maps/api/geocode/json?address=%s&key=%s\" % (address, api_key)\n",
    "    try:\n",
    "        response = requests.get(url)\n",
    "        if not response.status_code == 200:\n",
    "            print(\"HTTP Error\", response.status_code)\n",
    "        else:\n",
    "            try:\n",
    "                response_data=response.json()\n",
    "                return(response_data)\n",
    "            except:\n",
    "                print(\"Response not in valid JSON format\")\n",
    "    except:\n",
    "        print(\"Something went wrong with requests.get\")    "
   ]
  },
  {
   "cell_type": "code",
   "execution_count": 5,
   "id": "933577d1",
   "metadata": {},
   "outputs": [
    {
     "name": "stdout",
     "output_type": "stream",
     "text": [
      "         city                           city_LP\n",
      "0     Antalya       mediterranean-coast/antalya\n",
      "1      Athens                            Athens\n",
      "2   Ayia-napa  the-republic-of-cyprus/Agia-napa\n",
      "3     Bangkok                           Bangkok\n",
      "4   Barcelona                         Barcelona\n",
      "..        ...                               ...\n",
      "71     Venice                            Venice\n",
      "72     Vienna                            Vienna\n",
      "73     Warsaw                            Warsaw\n",
      "74  Zakynthos                         Zakynthos\n",
      "75     Zurich                            Zurich\n",
      "\n",
      "[76 rows x 2 columns]\n"
     ]
    }
   ],
   "source": [
    "import pandas as pd\n",
    "try:\n",
    "    df=pd.read_csv(\"C:/Users/yitzhak vider/DS Introduction Course/files/destinations_LP_crawler_Ex5.csv\",encoding='latin-1')\n",
    "except: \n",
    "    print(\"file not found\")\n",
    "#df.set_index('city',inplace=True)\n",
    "print(df)"
   ]
  },
  {
   "cell_type": "code",
   "execution_count": 6,
   "id": "39e9a0d9",
   "metadata": {
    "scrolled": true
   },
   "outputs": [
    {
     "name": "stdout",
     "output_type": "stream",
     "text": [
      "df(Index=0, city='Antalya', city_LP='mediterranean-coast/antalya')\n",
      "Turkey\n",
      "df(Index=1, city='Athens', city_LP='Athens')\n",
      "Greece\n",
      "df(Index=2, city='Ayia-napa', city_LP='the-republic-of-cyprus/Agia-napa')\n",
      "Cyprus\n",
      "df(Index=3, city='Bangkok', city_LP='Bangkok')\n",
      "Thailand\n",
      "df(Index=4, city='Barcelona', city_LP='Barcelona')\n",
      "Spain\n",
      "df(Index=5, city='Basel', city_LP='northern-switzerland/basel')\n",
      "Switzerland\n",
      "df(Index=6, city='Batumi', city_LP='adjara/batumi')\n",
      "Georgia\n",
      "df(Index=7, city='Beijing', city_LP='Beijing')\n",
      "China\n",
      "df(Index=8, city='Berlin', city_LP='Berlin')\n",
      "Germany\n",
      "df(Index=9, city='Boston', city_LP='Boston')\n",
      "USA\n",
      "df(Index=10, city='Bratislava', city_LP='Bratislava')\n",
      "Slovakia\n",
      "df(Index=11, city='Brussels', city_LP='Brussels')\n",
      "Belgium\n",
      "df(Index=12, city='Bucharest', city_LP='Bucharest')\n",
      "Romania\n",
      "df(Index=13, city='Budapest', city_LP='Budapest')\n",
      "Hungary\n",
      "df(Index=14, city='Burgas', city_LP='black-sea-coast/burgas')\n",
      "Bulgaria\n",
      "df(Index=15, city='Cancun', city_LP='Cancun')\n",
      "Mexico\n",
      "df(Index=16, city='Catania', city_LP='sicily/catania')\n",
      "Italy\n",
      "df(Index=17, city='Chiang-mai', city_LP='chiang-mai-province/Chiang-mai')\n",
      "Thailand\n",
      "df(Index=18, city='Cologne', city_LP='north-rhine-westphalia/cologne')\n",
      "Germany\n",
      "df(Index=19, city='Corfu', city_LP='ionian-islands/corfu')\n",
      "Greece\n",
      "df(Index=20, city='Costa-Brava', city_LP='Costa-Brava')\n",
      "Spain\n",
      "df(Index=21, city='Crete', city_LP='Crete')\n",
      "Greece\n",
      "df(Index=22, city='Krakï¿', city_LP='malopolska/krakow')\n",
      "df(Index=23, city='Delhi', city_LP='Delhi')\n",
      "India\n",
      "df(Index=24, city='Dresden', city_LP='saxony/dresden')\n",
      "Germany\n",
      "df(Index=25, city='Dublin', city_LP='Dublin')\n",
      "Ireland\n",
      "df(Index=26, city='Dubrovnik', city_LP='Dubrovnik')\n",
      "Croatia\n",
      "df(Index=27, city='Dusseldorf', city_LP='north-rhine-westphalia/Dusseldorf')\n",
      "Germany\n",
      "df(Index=28, city='Florence', city_LP='Florence')\n",
      "Italy\n",
      "df(Index=29, city='Frankfurt', city_LP='frankfurt-southern-rhineland')\n",
      "Germany\n",
      "df(Index=30, city='Geneva', city_LP='Geneva')\n",
      "Switzerland\n",
      "df(Index=31, city='Guangzhou', city_LP='guangdong/guangzhou')\n",
      "China\n",
      "df(Index=32, city='Hamburg', city_LP='Hamburg')\n",
      "Germany\n",
      "df(Index=33, city='Innsbruck', city_LP='tirol/innsbruck')\n",
      "Austria\n",
      "df(Index=34, city='Istanbul', city_LP='Istanbul')\n",
      "Turkey\n",
      "df(Index=35, city='Kos', city_LP='dodecanese/kos')\n",
      "Greece\n",
      "df(Index=36, city='Ko-samui', city_LP='Ko-samui')\n",
      "Thailand\n",
      "df(Index=37, city='Kyiv ukrain', city_LP='Kyiv')\n",
      "02000\n",
      "df(Index=38, city='LarnaKa', city_LP='the-republic-of-cyprus/larnaka')\n",
      "Cyprus\n",
      "df(Index=39, city='Las-Vegas', city_LP='Las-Vegas')\n",
      "USA\n",
      "df(Index=40, city='Limassol', city_LP='the-republic-of-cyprus/lemesos-limasol')\n",
      "Cyprus\n",
      "df(Index=41, city='Lisbon', city_LP='Lisbon')\n",
      "Portugal\n",
      "df(Index=42, city='Ljubljana', city_LP='Ljubljana')\n",
      "Slovenia\n",
      "df(Index=43, city='Los Angeles', city_LP='Los-Angeles')\n",
      "USA\n",
      "df(Index=44, city='Madrid', city_LP='Madrid')\n",
      "Spain\n",
      "df(Index=45, city='Manila', city_LP='Manila')\n",
      "Philippines\n",
      "df(Index=46, city='Marseille', city_LP='provence/Marseille')\n",
      "France\n",
      "df(Index=47, city='Mexico-City', city_LP='Mexico-City')\n",
      "Mexico\n",
      "df(Index=48, city='Miami', city_LP='Miami')\n",
      "USA\n",
      "df(Index=49, city='Milan', city_LP='Milan')\n",
      "Italy\n",
      "df(Index=50, city='Moscow', city_LP='Moscow')\n",
      "Russia\n",
      "df(Index=51, city='mumbai-bombay', city_LP='mumbai-bombay')\n",
      "India\n",
      "df(Index=52, city='Munich', city_LP='Munich')\n",
      "Germany\n",
      "df(Index=53, city='Mykonos', city_LP='cyclades/mykonos')\n",
      "Greece\n",
      "df(Index=54, city='Naples Italy', city_LP='campania/naples')\n",
      "Italy\n",
      "df(Index=55, city='Nice', city_LP='Nice')\n",
      "France\n",
      "df(Index=56, city='Odesa', city_LP='Odesa')\n",
      "65000\n",
      "df(Index=57, city='Paris', city_LP='Paris')\n",
      "France\n",
      "df(Index=58, city='Phuket', city_LP='phuket-province')\n",
      "Thailand\n",
      "df(Index=59, city='Rhodes', city_LP='dodecanese/rhodes')\n",
      "Greece\n",
      "df(Index=60, city='Rome', city_LP='Rome')\n",
      "Italy\n",
      "df(Index=61, city='Salzburg', city_LP='Salzburg')\n",
      "Austria\n",
      "df(Index=62, city='San-Francisco', city_LP='San-Francisco')\n",
      "USA\n",
      "df(Index=63, city='Shanghai', city_LP='Shanghai')\n",
      "China\n",
      "df(Index=64, city='Sofia', city_LP='Sofia')\n",
      "Bulgaria\n",
      "df(Index=65, city='St-Petersburg Russia', city_LP='St-Petersburg')\n",
      "Russia\n",
      "df(Index=66, city='Stuttgart', city_LP='baden-wurttemberg/stuttgart')\n",
      "Germany\n",
      "df(Index=67, city='Taipei', city_LP='Taipei')\n",
      "Taiwan\n",
      "df(Index=68, city='Tbilisi', city_LP='Tbilisi')\n",
      "Georgia\n",
      "df(Index=69, city='Thessaloniki', city_LP='northern-greece/Thessaloniki')\n",
      "Greece\n",
      "df(Index=70, city='Toronto', city_LP='Toronto')\n",
      "Canada\n",
      "df(Index=71, city='Venice', city_LP='Venice')\n",
      "Italy\n",
      "df(Index=72, city='Vienna', city_LP='Vienna')\n",
      "Austria\n",
      "df(Index=73, city='Warsaw', city_LP='Warsaw')\n",
      "Poland\n",
      "df(Index=74, city='Zakynthos', city_LP='Zakynthos')\n",
      "Greece\n",
      "df(Index=75, city='Zurich', city_LP='Zurich')\n",
      "Switzerland\n"
     ]
    }
   ],
   "source": [
    "countries=[]\n",
    "for row in df.itertuples(index=True, name='df'):\n",
    "    print(row)\n",
    "    getCountry=get_country(row.city)\n",
    "    if getCountry['status']=='ZERO_RESULTS':\n",
    "        countries.append(\"Null\")     \n",
    "        continue\n",
    "   # try:\n",
    "    countries.append(getCountry['results'][0]['formatted_address'].split(',')[-1].strip().replace(\" \", \"\"))\n",
    "    print(getCountry['results'][0]['formatted_address'].split(',')[-1].strip().replace(\" \", \"\"))\n",
    "#    except:\n",
    "#        countries.append(getCountry['results'][0]['address_components'][1]['long_name'].split(',')[0].strip().replace(\" \", \"\"))\n",
    "#        print((getCountry['results'][0]['address_components'][1]['long_name'].split(',')[0].strip().replace(\" \", \"\")))"
   ]
  },
  {
   "cell_type": "code",
   "execution_count": 7,
   "id": "f74a7014",
   "metadata": {},
   "outputs": [
    {
     "name": "stdout",
     "output_type": "stream",
     "text": [
      "['Turkey', 'Greece', 'Cyprus', 'Thailand', 'Spain', 'Switzerland', 'Georgia', 'China', 'Germany', 'USA', 'Slovakia', 'Belgium', 'Romania', 'Hungary', 'Bulgaria', 'Mexico', 'Italy', 'Thailand', 'Germany', 'Greece', 'Spain', 'Greece', 'Null', 'India', 'Germany', 'Ireland', 'Croatia', 'Germany', 'Italy', 'Germany', 'Switzerland', 'China', 'Germany', 'Austria', 'Turkey', 'Greece', 'Thailand', '02000', 'Cyprus', 'USA', 'Cyprus', 'Portugal', 'Slovenia', 'USA', 'Spain', 'Philippines', 'France', 'Mexico', 'USA', 'Italy', 'Russia', 'India', 'Germany', 'Greece', 'Italy', 'France', '65000', 'France', 'Thailand', 'Greece', 'Italy', 'Austria', 'USA', 'China', 'Bulgaria', 'Russia', 'Germany', 'Taiwan', 'Georgia', 'Greece', 'Canada', 'Italy', 'Austria', 'Poland', 'Greece', 'Switzerland']\n"
     ]
    }
   ],
   "source": [
    "print (countries)"
   ]
  },
  {
   "cell_type": "code",
   "execution_count": 8,
   "id": "b8cf7e8d",
   "metadata": {},
   "outputs": [],
   "source": [
    "df.insert(2, 'countries', countries)"
   ]
  },
  {
   "cell_type": "code",
   "execution_count": 9,
   "id": "264faddd",
   "metadata": {},
   "outputs": [
    {
     "name": "stdout",
     "output_type": "stream",
     "text": [
      "         city                           city_LP    countries description\n",
      "0     Antalya       mediterranean-coast/antalya       Turkey        Null\n",
      "1      Athens                            Athens       Greece        Null\n",
      "2   Ayia-napa  the-republic-of-cyprus/Agia-napa       Cyprus        Null\n",
      "3     Bangkok                           Bangkok     Thailand        Null\n",
      "4   Barcelona                         Barcelona        Spain        Null\n",
      "..        ...                               ...          ...         ...\n",
      "71     Venice                            Venice        Italy        Null\n",
      "72     Vienna                            Vienna      Austria        Null\n",
      "73     Warsaw                            Warsaw       Poland        Null\n",
      "74  Zakynthos                         Zakynthos       Greece        Null\n",
      "75     Zurich                            Zurich  Switzerland        Null\n",
      "\n",
      "[76 rows x 4 columns]\n"
     ]
    }
   ],
   "source": [
    "df.insert(3, 'description',\"Null\")\n",
    "print(df)"
   ]
  },
  {
   "cell_type": "code",
   "execution_count": 10,
   "id": "3cd365da",
   "metadata": {},
   "outputs": [],
   "source": [
    "def get_Description(city_disc_link):\n",
    "    disc_dict = dict()\n",
    "    import requests\n",
    "    from bs4 import BeautifulSoup\n",
    "    try:\n",
    "        response = requests.get(city_disc_link)\n",
    "        if not response.status_code == 200:\n",
    "            return city_disc_link\n",
    "        result_page = BeautifulSoup(response.content,'html.parser')\n",
    "        for i in result_page.find_all(\"div\", class_= \"readMore_content___5EuR relative overflow-hidden max-h-96 is-max wysiwyg\"):\n",
    "            my_discription=i.get_text()   \n",
    "        return my_discription\n",
    "    except:\n",
    "        return print(\"Oh i'm so sorry it did't work\")"
   ]
  },
  {
   "cell_type": "code",
   "execution_count": 11,
   "id": "9b061c15",
   "metadata": {},
   "outputs": [],
   "source": [
    "city_disc_link=\"https://www.lonelyplanet.com\"\n",
    "for index, row in df.iterrows():\n",
    "    city_disc_link=\"https://www.lonelyplanet.com\"\n",
    "    city_disc_link+=\"/\"+row[\"countries\"]+\"/\"+row[\"city_LP\"]\n",
    "    row[\"description\"]=get_Description(city_disc_link)"
   ]
  },
  {
   "cell_type": "code",
   "execution_count": 12,
   "id": "635032ac",
   "metadata": {
    "scrolled": true
   },
   "outputs": [
    {
     "name": "stdout",
     "output_type": "stream",
     "text": [
      "         city                           city_LP    countries  \\\n",
      "0     Antalya       mediterranean-coast/antalya       Turkey   \n",
      "1      Athens                            Athens       Greece   \n",
      "2   Ayia-napa  the-republic-of-cyprus/Agia-napa       Cyprus   \n",
      "3     Bangkok                           Bangkok     Thailand   \n",
      "4   Barcelona                         Barcelona        Spain   \n",
      "..        ...                               ...          ...   \n",
      "71     Venice                            Venice        Italy   \n",
      "72     Vienna                            Vienna      Austria   \n",
      "73     Warsaw                            Warsaw       Poland   \n",
      "74  Zakynthos                         Zakynthos       Greece   \n",
      "75     Zurich                            Zurich  Switzerland   \n",
      "\n",
      "                                          description  \n",
      "0   Once seen simply as the gateway to the Turkish...  \n",
      "1   With equal measures of grunge and grace, Athen...  \n",
      "2   Endless blue-sky days and a coastline riddled ...  \n",
      "3   Same same, but different. This Thailish T-shir...  \n",
      "4   Barcelona is an enchanting seaside city with b...  \n",
      "..                                                ...  \n",
      "71  Imagine the audacity of building a city of mar...  \n",
      "72  Baroque streetscapes and imperial palaces set ...  \n",
      "73  A phoenix arisen from the ashes, Poland's capi...  \n",
      "74  Zakynthos, also known by its Italian name Zant...  \n",
      "75  Culturally vibrant, efficiently run and attrac...  \n",
      "\n",
      "[76 rows x 4 columns]\n"
     ]
    }
   ],
   "source": [
    "print(df)"
   ]
  },
  {
   "cell_type": "code",
   "execution_count": 13,
   "id": "9f3b9c11",
   "metadata": {},
   "outputs": [],
   "source": [
    "data = {'city':  df['city'],'country': df['countries'], 'description':  df['description']}\n",
    "dfNew = pd.DataFrame(data)"
   ]
  },
  {
   "cell_type": "code",
   "execution_count": 14,
   "id": "baa1106b",
   "metadata": {
    "scrolled": false
   },
   "outputs": [
    {
     "name": "stdout",
     "output_type": "stream",
     "text": [
      "         city      country                                        description\n",
      "0     Antalya       Turkey  Once seen simply as the gateway to the Turkish...\n",
      "1      Athens       Greece  With equal measures of grunge and grace, Athen...\n",
      "2   Ayia-napa       Cyprus  Endless blue-sky days and a coastline riddled ...\n",
      "3     Bangkok     Thailand  Same same, but different. This Thailish T-shir...\n",
      "4   Barcelona        Spain  Barcelona is an enchanting seaside city with b...\n",
      "..        ...          ...                                                ...\n",
      "71     Venice        Italy  Imagine the audacity of building a city of mar...\n",
      "72     Vienna      Austria  Baroque streetscapes and imperial palaces set ...\n",
      "73     Warsaw       Poland  A phoenix arisen from the ashes, Poland's capi...\n",
      "74  Zakynthos       Greece  Zakynthos, also known by its Italian name Zant...\n",
      "75     Zurich  Switzerland  Culturally vibrant, efficiently run and attrac...\n",
      "\n",
      "[76 rows x 3 columns]\n"
     ]
    }
   ],
   "source": [
    "print(dfNew)\n",
    "dfNew.to_csv(\"C:/Users/yitzhak vider/DS Introduction Course/LP_destinations.csv\")"
   ]
  }
 ],
 "metadata": {
  "kernelspec": {
   "display_name": "Python 3 (ipykernel)",
   "language": "python",
   "name": "python3"
  },
  "language_info": {
   "codemirror_mode": {
    "name": "ipython",
    "version": 3
   },
   "file_extension": ".py",
   "mimetype": "text/x-python",
   "name": "python",
   "nbconvert_exporter": "python",
   "pygments_lexer": "ipython3",
   "version": "3.9.7"
  }
 },
 "nbformat": 4,
 "nbformat_minor": 5
}
