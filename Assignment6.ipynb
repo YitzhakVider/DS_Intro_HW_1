{
 "cells": [
  {
   "cell_type": "code",
   "execution_count": 11,
   "id": "63084c82",
   "metadata": {
    "scrolled": true
   },
   "outputs": [
    {
     "name": "stdout",
     "output_type": "stream",
     "text": [
      "         city      country                                        description\n",
      "0     Antalya       Turkey  Once seen simply as the gateway to the Turkish...\n",
      "1      Athens       Greece  With equal measures of grunge and grace, Athen...\n",
      "2   Ayia-napa       Cyprus  Endless blue-sky days and a coastline riddled ...\n",
      "3     Bangkok     Thailand  Same same, but different. This Thailish T-shir...\n",
      "4   Barcelona        Spain  Barcelona is an enchanting seaside city with b...\n",
      "..        ...          ...                                                ...\n",
      "71     Venice        Italy  Imagine the audacity of building a city of mar...\n",
      "72     Vienna      Austria  Baroque streetscapes and imperial palaces set ...\n",
      "73     Warsaw       Poland  A phoenix arisen from the ashes, Poland's capi...\n",
      "74  Zakynthos       Greece  Zakynthos, also known by its Italian name Zant...\n",
      "75     Zurich  Switzerland  Culturally vibrant, efficiently run and attrac...\n",
      "\n",
      "[76 rows x 3 columns]\n"
     ]
    }
   ],
   "source": [
    "import pandas as pd\n",
    "import numpy as np\n",
    "import matplotlib.pyplot as plt\n",
    "\n",
    "df=pd.read_csv(\"C:/Users/yitzhak vider/DS Introduction Course/LP_destinations.csv\")\n",
    "try:\n",
    "        print (df)\n",
    "except: \n",
    "        print(\"file not found\")"
   ]
  },
  {
   "cell_type": "code",
   "execution_count": 12,
   "id": "33da78e5",
   "metadata": {},
   "outputs": [],
   "source": [
    "#1\n",
    "numofwords=[]\n",
    "for index, row in df.iterrows():\n",
    "    numofwords.append(len(row[\"description\"].split(' ')))\n",
    "df.insert(3, 'num_of_words',numofwords)"
   ]
  },
  {
   "cell_type": "code",
   "execution_count": 13,
   "id": "be9a5975",
   "metadata": {
    "scrolled": true
   },
   "outputs": [],
   "source": [
    "#2\n",
    "No_punct_description=[]\n",
    "replacing_words = [',' ,'.', ':','-',';','\\n','!','?','–']\n",
    "for index, row in df.iterrows():\n",
    "    mystring=row[\"description\"]\n",
    "    for i in replacing_words:\n",
    "        mystring=mystring.replace(i, '')\n",
    "    No_punct_description.append(mystring)\n",
    "df.insert(4, 'No_punct_description',No_punct_description)        \n",
    "#        row[\"No_punct_description\"]=append(row[\"description\"].replace(i, ' ')\n",
    "#    print(len(row[\"description\"].split(' ')))"
   ]
  },
  {
   "cell_type": "code",
   "execution_count": 14,
   "id": "817fc5be",
   "metadata": {},
   "outputs": [],
   "source": [
    "#3,4,5\n",
    "has_restaurants=[]\n",
    "has_museums=[]\n",
    "has_beaches=[]\n",
    "for index, row in df.iterrows():\n",
    "    has_restaurants.append(row[\"description\"].count(\"restaurant \"))\n",
    "    has_museums.append(row[\"description\"].count(\"museum \"))\n",
    "    counter=row[\"description\"].count(\"beach \")+row[\"description\"].count(\"ocean \")+row[\"description\"].count(\"sea \")\n",
    "    has_beaches.append(counter)\n",
    "df.insert(5, 'has_restaurants',has_restaurants)\n",
    "df.insert(6, 'has_museums',has_museums)\n",
    "df.insert(7, 'has_beaches',has_beaches)"
   ]
  },
  {
   "cell_type": "code",
   "execution_count": 15,
   "id": "34db2d6a",
   "metadata": {},
   "outputs": [],
   "source": [
    "def Mycounter(sentencse, word):\n",
    "    arr=sentencse.split(' ')\n",
    "    count=0\n",
    "    for i in arr:\n",
    "        if (i==word):\n",
    "            count=count+1\n",
    "    return count"
   ]
  },
  {
   "cell_type": "code",
   "execution_count": 16,
   "id": "cfb7fe7a",
   "metadata": {},
   "outputs": [
    {
     "ename": "ValueError",
     "evalue": "cannot insert has_restaurants, already exists",
     "output_type": "error",
     "traceback": [
      "\u001b[1;31m---------------------------------------------------------------------------\u001b[0m",
      "\u001b[1;31mValueError\u001b[0m                                Traceback (most recent call last)",
      "\u001b[1;32mC:\\Users\\YITZHA~1\\AppData\\Local\\Temp/ipykernel_10052/3654395167.py\u001b[0m in \u001b[0;36m<module>\u001b[1;34m\u001b[0m\n\u001b[0;32m      8\u001b[0m     \u001b[0mcounter\u001b[0m\u001b[1;33m=\u001b[0m\u001b[0mMycounter\u001b[0m\u001b[1;33m(\u001b[0m\u001b[0mrow\u001b[0m\u001b[1;33m[\u001b[0m\u001b[1;34m\"description\"\u001b[0m\u001b[1;33m]\u001b[0m\u001b[1;33m,\u001b[0m\u001b[1;34m\"beach\"\u001b[0m\u001b[1;33m)\u001b[0m\u001b[1;33m+\u001b[0m\u001b[0mMycounter\u001b[0m\u001b[1;33m(\u001b[0m\u001b[0mrow\u001b[0m\u001b[1;33m[\u001b[0m\u001b[1;34m\"description\"\u001b[0m\u001b[1;33m]\u001b[0m\u001b[1;33m,\u001b[0m\u001b[1;34m\"ocean\"\u001b[0m\u001b[1;33m)\u001b[0m\u001b[1;33m+\u001b[0m\u001b[0mMycounter\u001b[0m\u001b[1;33m(\u001b[0m\u001b[0mrow\u001b[0m\u001b[1;33m[\u001b[0m\u001b[1;34m\"description\"\u001b[0m\u001b[1;33m]\u001b[0m\u001b[1;33m,\u001b[0m\u001b[1;34m\"sea\"\u001b[0m\u001b[1;33m)\u001b[0m\u001b[1;33m\u001b[0m\u001b[1;33m\u001b[0m\u001b[0m\n\u001b[0;32m      9\u001b[0m     \u001b[0mhas_beaches\u001b[0m\u001b[1;33m.\u001b[0m\u001b[0mappend\u001b[0m\u001b[1;33m(\u001b[0m\u001b[0mcounter\u001b[0m\u001b[1;33m)\u001b[0m\u001b[1;33m\u001b[0m\u001b[1;33m\u001b[0m\u001b[0m\n\u001b[1;32m---> 10\u001b[1;33m \u001b[0mdf\u001b[0m\u001b[1;33m.\u001b[0m\u001b[0minsert\u001b[0m\u001b[1;33m(\u001b[0m\u001b[1;36m5\u001b[0m\u001b[1;33m,\u001b[0m \u001b[1;34m'has_restaurants'\u001b[0m\u001b[1;33m,\u001b[0m\u001b[0mhas_restaurants\u001b[0m\u001b[1;33m)\u001b[0m\u001b[1;33m\u001b[0m\u001b[1;33m\u001b[0m\u001b[0m\n\u001b[0m\u001b[0;32m     11\u001b[0m \u001b[0mdf\u001b[0m\u001b[1;33m.\u001b[0m\u001b[0minsert\u001b[0m\u001b[1;33m(\u001b[0m\u001b[1;36m6\u001b[0m\u001b[1;33m,\u001b[0m \u001b[1;34m'has_museums'\u001b[0m\u001b[1;33m,\u001b[0m\u001b[0mhas_museums\u001b[0m\u001b[1;33m)\u001b[0m\u001b[1;33m\u001b[0m\u001b[1;33m\u001b[0m\u001b[0m\n\u001b[0;32m     12\u001b[0m \u001b[0mdf\u001b[0m\u001b[1;33m.\u001b[0m\u001b[0minsert\u001b[0m\u001b[1;33m(\u001b[0m\u001b[1;36m7\u001b[0m\u001b[1;33m,\u001b[0m \u001b[1;34m'has_beaches'\u001b[0m\u001b[1;33m,\u001b[0m\u001b[0mhas_beaches\u001b[0m\u001b[1;33m)\u001b[0m\u001b[1;33m\u001b[0m\u001b[1;33m\u001b[0m\u001b[0m\n",
      "\u001b[1;32mC:\\ProgramData\\Anaconda3\\lib\\site-packages\\pandas\\core\\frame.py\u001b[0m in \u001b[0;36minsert\u001b[1;34m(self, loc, column, value, allow_duplicates)\u001b[0m\n\u001b[0;32m   4412\u001b[0m         \u001b[1;32mif\u001b[0m \u001b[1;32mnot\u001b[0m \u001b[0mallow_duplicates\u001b[0m \u001b[1;32mand\u001b[0m \u001b[0mcolumn\u001b[0m \u001b[1;32min\u001b[0m \u001b[0mself\u001b[0m\u001b[1;33m.\u001b[0m\u001b[0mcolumns\u001b[0m\u001b[1;33m:\u001b[0m\u001b[1;33m\u001b[0m\u001b[1;33m\u001b[0m\u001b[0m\n\u001b[0;32m   4413\u001b[0m             \u001b[1;31m# Should this be a different kind of error??\u001b[0m\u001b[1;33m\u001b[0m\u001b[1;33m\u001b[0m\u001b[0m\n\u001b[1;32m-> 4414\u001b[1;33m             \u001b[1;32mraise\u001b[0m \u001b[0mValueError\u001b[0m\u001b[1;33m(\u001b[0m\u001b[1;34mf\"cannot insert {column}, already exists\"\u001b[0m\u001b[1;33m)\u001b[0m\u001b[1;33m\u001b[0m\u001b[1;33m\u001b[0m\u001b[0m\n\u001b[0m\u001b[0;32m   4415\u001b[0m         \u001b[1;32mif\u001b[0m \u001b[1;32mnot\u001b[0m \u001b[0misinstance\u001b[0m\u001b[1;33m(\u001b[0m\u001b[0mloc\u001b[0m\u001b[1;33m,\u001b[0m \u001b[0mint\u001b[0m\u001b[1;33m)\u001b[0m\u001b[1;33m:\u001b[0m\u001b[1;33m\u001b[0m\u001b[1;33m\u001b[0m\u001b[0m\n\u001b[0;32m   4416\u001b[0m             \u001b[1;32mraise\u001b[0m \u001b[0mTypeError\u001b[0m\u001b[1;33m(\u001b[0m\u001b[1;34m\"loc must be int\"\u001b[0m\u001b[1;33m)\u001b[0m\u001b[1;33m\u001b[0m\u001b[1;33m\u001b[0m\u001b[0m\n",
      "\u001b[1;31mValueError\u001b[0m: cannot insert has_restaurants, already exists"
     ]
    }
   ],
   "source": [
    "has_restaurants=[]\n",
    "has_museums=[]\n",
    "has_beaches=[]\n",
    "\n",
    "for index, row in df.iterrows():\n",
    "    has_restaurants.append(Mycounter(row[\"description\"],\"restaurant\"))\n",
    "    has_museums.append(Mycounter(row[\"description\"],\"museum\"))\n",
    "    counter=Mycounter(row[\"description\"],\"beach\")+Mycounter(row[\"description\"],\"ocean\")+Mycounter(row[\"description\"],\"sea\")\n",
    "    has_beaches.append(counter)\n",
    "df.insert(5, 'has_restaurants',has_restaurants)\n",
    "df.insert(6, 'has_museums',has_museums)\n",
    "df.insert(7, 'has_beaches',has_beaches)"
   ]
  },
  {
   "cell_type": "code",
   "execution_count": 17,
   "id": "eac5580f",
   "metadata": {},
   "outputs": [
    {
     "name": "stdout",
     "output_type": "stream",
     "text": [
      "263.89473684210526\n"
     ]
    }
   ],
   "source": [
    "#6\n",
    "print (df['num_of_words'].mean())"
   ]
  },
  {
   "cell_type": "code",
   "execution_count": 18,
   "id": "98cfa057",
   "metadata": {},
   "outputs": [
    {
     "name": "stdout",
     "output_type": "stream",
     "text": [
      "515\n"
     ]
    }
   ],
   "source": [
    "#7\n",
    "print (df['num_of_words'].max())"
   ]
  },
  {
   "cell_type": "code",
   "execution_count": 19,
   "id": "0a57a14a",
   "metadata": {},
   "outputs": [
    {
     "data": {
      "text/plain": [
       "(array([ 3.,  1., 34.,  1.,  0.,  1.,  1., 18., 16.,  1.]),\n",
       " array([  1. ,  52.4, 103.8, 155.2, 206.6, 258. , 309.4, 360.8, 412.2,\n",
       "        463.6, 515. ]),\n",
       " <BarContainer object of 10 artists>)"
      ]
     },
     "execution_count": 19,
     "metadata": {},
     "output_type": "execute_result"
    },
    {
     "data": {
      "image/png": "[encoded data removed]",
      "text/plain": [
       "<Figure size 432x288 with 1 Axes>"
      ]
     },
     "metadata": {
      "needs_background": "light"
     },
     "output_type": "display_data"
    }
   ],
   "source": [
    "#8\n",
    "plt.hist(df['num_of_words'])"
   ]
  },
  {
   "cell_type": "code",
   "execution_count": 20,
   "id": "6f51a66a",
   "metadata": {},
   "outputs": [
    {
     "data": {
      "image/png": "[encoded data removed]",
      "text/plain": [
       "<Figure size 432x288 with 1 Axes>"
      ]
     },
     "metadata": {
      "needs_background": "light"
     },
     "output_type": "display_data"
    }
   ],
   "source": [
    "#9\n",
    "plt.scatter(df['has_beaches'], df['has_restaurants'])\n",
    "plt.xlabel(\"has_beaches\")\n",
    "plt.ylabel(\"has_restaurants\")\n",
    "plt.title(\"example scatter plot\")\n",
    "plt.show()"
   ]
  },
  {
   "cell_type": "code",
   "execution_count": 21,
   "id": "33e8dde4",
   "metadata": {},
   "outputs": [
    {
     "data": {
      "image/png": "[encoded data removed]",
      "text/plain": [
       "<Figure size 432x288 with 1 Axes>"
      ]
     },
     "metadata": {
      "needs_background": "light"
     },
     "output_type": "display_data"
    }
   ],
   "source": [
    "#10\n",
    "plt.scatter(df['has_museums'], df['has_beaches'],color=\"g\")\n",
    "plt.xlabel(\"has_museums\")\n",
    "plt.ylabel(\"has_beaches\")\n",
    "plt.title(\"example scatter plot 2\")\n",
    "plt.show()"
   ]
  },
  {
   "cell_type": "code",
   "execution_count": 22,
   "id": "bc6fff41",
   "metadata": {},
   "outputs": [
    {
     "name": "stdout",
     "output_type": "stream",
     "text": [
      "['cati', 'cat', 'catout']\n",
      "1\n"
     ]
    }
   ],
   "source": [
    "word=\"cati cat catout\"\n",
    "arr=word.split(' ')\n",
    "print(arr)\n",
    "count=0\n",
    "for i in arr:\n",
    "    if (i==\"cat\"):\n",
    "        count=count+1\n",
    "print (count)      "
   ]
  },
  {
   "cell_type": "code",
   "execution_count": 23,
   "id": "bcb74bfe",
   "metadata": {},
   "outputs": [
    {
     "name": "stdout",
     "output_type": "stream",
     "text": [
      "         city      country                                        description  \\\n",
      "0     Antalya       Turkey  Once seen simply as the gateway to the Turkish...   \n",
      "1      Athens       Greece  With equal measures of grunge and grace, Athen...   \n",
      "2   Ayia-napa       Cyprus  Endless blue-sky days and a coastline riddled ...   \n",
      "3     Bangkok     Thailand  Same same, but different. This Thailish T-shir...   \n",
      "4   Barcelona        Spain  Barcelona is an enchanting seaside city with b...   \n",
      "..        ...          ...                                                ...   \n",
      "71     Venice        Italy  Imagine the audacity of building a city of mar...   \n",
      "72     Vienna      Austria  Baroque streetscapes and imperial palaces set ...   \n",
      "73     Warsaw       Poland  A phoenix arisen from the ashes, Poland's capi...   \n",
      "74  Zakynthos       Greece  Zakynthos, also known by its Italian name Zant...   \n",
      "75     Zurich  Switzerland  Culturally vibrant, efficiently run and attrac...   \n",
      "\n",
      "    num_of_words                               No_punct_description  \\\n",
      "0            112  Once seen simply as the gateway to the Turkish...   \n",
      "1            393  With equal measures of grunge and grace Athens...   \n",
      "2            147  Endless bluesky days and a coastline riddled w...   \n",
      "3            390  Same same but different This Thailish Tshirt p...   \n",
      "4            419  Barcelona is an enchanting seaside city with b...   \n",
      "..           ...                                                ...   \n",
      "71           412  Imagine the audacity of building a city of mar...   \n",
      "72           410  Baroque streetscapes and imperial palaces set ...   \n",
      "73           406  A phoenix arisen from the ashes Poland's capit...   \n",
      "74           118  Zakynthos also known by its Italian name Zante...   \n",
      "75           119  Culturally vibrant efficiently run and attract...   \n",
      "\n",
      "    has_restaurants  has_museums  has_beaches  \n",
      "0                 0            0            0  \n",
      "1                 1            0            0  \n",
      "2                 0            0            1  \n",
      "3                 0            0            0  \n",
      "4                 0            0            1  \n",
      "..              ...          ...          ...  \n",
      "71                0            0            0  \n",
      "72                0            0            0  \n",
      "73                0            1            0  \n",
      "74                0            0            0  \n",
      "75                0            0            0  \n",
      "\n",
      "[76 rows x 8 columns]\n"
     ]
    }
   ],
   "source": [
    "print(df)"
   ]
  }
 ],
 "metadata": {
  "kernelspec": {
   "display_name": "Python 3 (ipykernel)",
   "language": "python",
   "name": "python3"
  },
  "language_info": {
   "codemirror_mode": {
    "name": "ipython",
    "version": 3
   },
   "file_extension": ".py",
   "mimetype": "text/x-python",
   "name": "python",
   "nbconvert_exporter": "python",
   "pygments_lexer": "ipython3",
   "version": "3.9.7"
  }
 },
 "nbformat": 4,
 "nbformat_minor": 5
}
