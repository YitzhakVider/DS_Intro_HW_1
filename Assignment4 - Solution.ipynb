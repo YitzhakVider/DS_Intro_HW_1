{
 "cells": [
  {
   "cell_type": "code",
   "execution_count": 73,
   "id": "88d66d0e",
   "metadata": {},
   "outputs": [],
   "source": [
    "def get_latANDlng(address):\n",
    "    import requests\n",
    "    api_key=\"$%^&apiKey$%^&\"\n",
    "    url=\"https://maps.googleapis.com/maps/api/geocode/json?address=%s&key=%s\" % (address, api_key)\n",
    "    try:\n",
    "        response = requests.get(url)\n",
    "        if not response.status_code == 200:\n",
    "            print(\"HTTP Error\", response.status_code)\n",
    "        else:\n",
    "            try:\n",
    "                response_data=response.json()\n",
    "                return(response_data)\n",
    "            except:\n",
    "                print(\"Response not in valid JSON format\")\n",
    "    except:\n",
    "        print(\"Something went wrong with requests.get\")    "
   ]
  },
  {
   "cell_type": "code",
   "execution_count": 74,
   "id": "0fab0f14",
   "metadata": {},
   "outputs": [],
   "source": [
    "def get_distance(dest):\n",
    "    source=\"Jerusalem,Israel\"\n",
    "    import requests\n",
    "    api_key=\"$%^&apiKey$%^&\"\n",
    "    url=\"https://maps.googleapis.com/maps/api/distancematrix/json?origins=%s&destinations=%s&key=%s\" % (source, dest, api_key)\n",
    "    try:\n",
    "        response = requests.get(url)\n",
    "        if not response.status_code == 200:\n",
    "            print(\"HTTP Errror\", response.status_code)\n",
    "        else:\n",
    "            try:\n",
    "                response_data=response.json()\n",
    "            except:\n",
    "                print(\"Response not in valid JSON format\")\n",
    "    except:\n",
    "        print(\"Something went wrong with requests.get\")\n",
    "    return(response_data)"
   ]
  },
  {
   "cell_type": "code",
   "execution_count": 75,
   "id": "96626534",
   "metadata": {},
   "outputs": [],
   "source": [
    "dictionary=dict()\n",
    "file=\"C:/Users/yitzhak vider/DS Introduction Course/files/dests.txt\"\n",
    "distances=[]\n",
    "try:\n",
    "        fhand=open(file)\n",
    "except: \n",
    "        print(\"file not found\")\n",
    "for word in fhand:\n",
    "    latANDlng=get_latANDlng(word)\n",
    "    distance=get_distance(word)\n",
    "    T=(distance['rows'][0]['elements'][0]['distance']['text'],\n",
    "       distance['rows'][0]['elements'][0]['duration']['text'],\n",
    "       latANDlng['results'][0]['geometry']['location']['lng'],\n",
    "       latANDlng['results'][0]['geometry']['location']['lat'] )\n",
    "    dictionary[word]=T\n",
    "    distances.append(distance['rows'][0]['elements'][0]['distance']['text'])    \n"
   ]
  },
  {
   "cell_type": "code",
   "execution_count": 76,
   "id": "86ae6c34",
   "metadata": {},
   "outputs": [
    {
     "name": "stdout",
     "output_type": "stream",
     "text": [
      "City: Istanbul\n",
      "The distance of the destination from Jerusalem is: 1,809 km\n",
      "The arrival time from Jerusalem to the destination is:20 hours 42 mins\n",
      "The longitude of the destination is: 28.9783589\n",
      "The latitude  of the destination is: 41.0082376\n",
      "\n",
      "City: Amsterdam\n",
      "The distance of the destination from Jerusalem is: 4,528 km\n",
      "The arrival time from Jerusalem to the destination is:48 hours 0 mins\n",
      "The longitude of the destination is: 4.9041389\n",
      "The latitude  of the destination is: 52.3675734\n",
      "\n",
      "City: Valletta\n",
      "The distance of the destination from Jerusalem is: 3,783 km\n",
      "The arrival time from Jerusalem to the destination is:50 hours 0 mins\n",
      "The longitude of the destination is: 14.5145528\n",
      "The latitude  of the destination is: 35.8989085\n",
      "\n",
      "City: Basel\n",
      "The distance of the destination from Jerusalem is: 4,091 km\n",
      "The arrival time from Jerusalem to the destination is:44 hours 0 mins\n",
      "The longitude of the destination is: 7.5885761\n",
      "The latitude  of the destination is: 47.5595986\n",
      "\n",
      "City: DohaThe distance of the destination from Jerusalem is: 2,104 km\n",
      "The arrival time from Jerusalem to the destination is:21 hours 51 mins\n",
      "The longitude of the destination is: 51.53103979999999\n",
      "The latitude  of the destination is: 25.2854473\n",
      "\n"
     ]
    }
   ],
   "source": [
    "for k,v in dictionary.items():\n",
    "    time=str(v[1]).split(' ')\n",
    "    if (time[1]==\"days\" or time[1]==\"day\"):\n",
    "        val=(str(int(time[0])*24+int(time[2])) + \" hours 0 mins\")\n",
    "    else:\n",
    "        val=v[1]\n",
    "    print(\"City: \"+k+\"The distance of the destination from Jerusalem is: \"+ v[0]+\n",
    "         \"\\nThe arrival time from Jerusalem to the destination is:\"+ val + \n",
    "         \"\\nThe longitude of the destination is: \"+str(v[2])+\n",
    "         \"\\nThe latitude  of the destination is: \"+str(v[3])+\"\\n\")"
   ]
  },
  {
   "cell_type": "code",
   "execution_count": 77,
   "id": "35d9c3fd",
   "metadata": {},
   "outputs": [
    {
     "name": "stdout",
     "output_type": "stream",
     "text": [
      "The 3 furthest cities from Jerusalem are:\n",
      "\n",
      "Amsterdam\n",
      "\n",
      "Basel\n",
      "\n",
      "Valletta\n",
      "\n"
     ]
    }
   ],
   "source": [
    "distances.sort(reverse = True)\n",
    "\n",
    "print (\"The 3 furthest cities from Jerusalem are:\\n\")\n",
    "\n",
    "for i in range(3):\n",
    "    for k,v in dictionary.items():\n",
    "        if (v[0]==distances[i]):\n",
    "            print (k)\n",
    "        "
   ]
  }
 ],
 "metadata": {
  "kernelspec": {
   "display_name": "Python 3 (ipykernel)",
   "language": "python",
   "name": "python3"
  },
  "language_info": {
   "codemirror_mode": {
    "name": "ipython",
    "version": 3
   },
   "file_extension": ".py",
   "mimetype": "text/x-python",
   "name": "python",
   "nbconvert_exporter": "python",
   "pygments_lexer": "ipython3",
   "version": "3.9.7"
  }
 },
 "nbformat": 4,
 "nbformat_minor": 5
}
